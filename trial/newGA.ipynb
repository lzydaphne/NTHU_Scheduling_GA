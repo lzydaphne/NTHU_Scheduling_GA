{
 "cells": [
  {
   "cell_type": "code",
   "execution_count": 56,
   "metadata": {},
   "outputs": [
    {
     "data": {
      "text/html": [
       "<div>\n",
       "<style scoped>\n",
       "    .dataframe tbody tr th:only-of-type {\n",
       "        vertical-align: middle;\n",
       "    }\n",
       "\n",
       "    .dataframe tbody tr th {\n",
       "        vertical-align: top;\n",
       "    }\n",
       "\n",
       "    .dataframe thead th {\n",
       "        text-align: right;\n",
       "    }\n",
       "</style>\n",
       "<table border=\"1\" class=\"dataframe\">\n",
       "  <thead>\n",
       "    <tr style=\"text-align: right;\">\n",
       "      <th></th>\n",
       "      <th>job</th>\n",
       "      <th>instance</th>\n",
       "      <th>Processing Time</th>\n",
       "      <th>family</th>\n",
       "      <th>Setup Time</th>\n",
       "    </tr>\n",
       "  </thead>\n",
       "  <tbody>\n",
       "    <tr>\n",
       "      <th>0</th>\n",
       "      <td>J1</td>\n",
       "      <td>in1</td>\n",
       "      <td>4482.966667</td>\n",
       "      <td>1</td>\n",
       "      <td>984</td>\n",
       "    </tr>\n",
       "    <tr>\n",
       "      <th>1</th>\n",
       "      <td>J2</td>\n",
       "      <td>in1</td>\n",
       "      <td>4344.916667</td>\n",
       "      <td>1</td>\n",
       "      <td>984</td>\n",
       "    </tr>\n",
       "    <tr>\n",
       "      <th>2</th>\n",
       "      <td>J3</td>\n",
       "      <td>in1</td>\n",
       "      <td>4470.700000</td>\n",
       "      <td>1</td>\n",
       "      <td>984</td>\n",
       "    </tr>\n",
       "    <tr>\n",
       "      <th>3</th>\n",
       "      <td>J4</td>\n",
       "      <td>in1</td>\n",
       "      <td>1911.583333</td>\n",
       "      <td>1</td>\n",
       "      <td>984</td>\n",
       "    </tr>\n",
       "    <tr>\n",
       "      <th>4</th>\n",
       "      <td>J5</td>\n",
       "      <td>in1</td>\n",
       "      <td>553.850000</td>\n",
       "      <td>1</td>\n",
       "      <td>984</td>\n",
       "    </tr>\n",
       "  </tbody>\n",
       "</table>\n",
       "</div>"
      ],
      "text/plain": [
       "  job instance  Processing Time  family  Setup Time\n",
       "0  J1      in1      4482.966667       1         984\n",
       "1  J2      in1      4344.916667       1         984\n",
       "2  J3      in1      4470.700000       1         984\n",
       "3  J4      in1      1911.583333       1         984\n",
       "4  J5      in1       553.850000       1         984"
      ]
     },
     "execution_count": 56,
     "metadata": {},
     "output_type": "execute_result"
    }
   ],
   "source": [
    "\n",
    "import pandas as pd\n",
    "\n",
    "# Load the data from the Excel file\n",
    "file_path = 'data/train_data_231108.xlsx'\n",
    "\n",
    "# Read the Excel file\n",
    "try:\n",
    "    data = pd.read_excel(file_path)\n",
    "except Exception as e:\n",
    "    error_message = str(e)\n",
    "\n",
    "# Check if the data is loaded correctly by displaying the first few rows\n",
    "data.head() if 'data' in locals() else error_message\n",
    "\n"
   ]
  },
  {
   "cell_type": "code",
   "execution_count": 57,
   "metadata": {},
   "outputs": [
    {
     "data": {
      "text/plain": [
       "instance\n",
       "in1     [4482.966666666666, 4344.916666666667, 4470.7,...\n",
       "in10    [2256.911203085747, 3717.1, 2401.764876047549,...\n",
       "in11    [1471.216666666667, 5909.066666666667, 861.533...\n",
       "in12    [3367.783333333333, 6571.15, 3975.966666666667...\n",
       "in13    [1418.716666666667, 5690.633333333333, 3724.70...\n",
       "                              ...                        \n",
       "in79    [4824.25, 30782.61666666666, 15749.06666666667...\n",
       "in8     [2401.766666666667, 4838.566666666667, 5689.7,...\n",
       "in80    [38523.35, 37356.51666666667, 43006.5833333333...\n",
       "in81    [12391.4, 13187.21666666667, 13745.78333333333...\n",
       "in9     [1718.733619655377, 3229.382640905859, 12656.3...\n",
       "Name: Processing Time, Length: 81, dtype: object"
      ]
     },
     "execution_count": 57,
     "metadata": {},
     "output_type": "execute_result"
    }
   ],
   "source": [
    "import random\n",
    "import numpy as np\n",
    "\n",
    "# Assume we have the number of machines and instances from the data\n",
    "num_machines = 10  # As mentioned in the problem statement\n",
    "num_jobs = 20     # As mentioned in the problem statement\n",
    "\n",
    "# Group the data by instance to get processing times for each instance\n",
    "grouped_data = data.groupby('instance')['Processing Time'].apply(list)\n",
    "grouped_data"
   ]
  },
  {
   "cell_type": "code",
   "execution_count": 58,
   "metadata": {},
   "outputs": [],
   "source": [
    "# Define a function to initialize a population of chromosomes\n",
    "def init_population(population_size, num_jobs):\n",
    "    population = []\n",
    "    for _ in range(population_size):\n",
    "        # Generate a random sequence of job numbers for each chromosome\n",
    "        chromosome = np.random.permutation(num_jobs).tolist()\n",
    "        population.append(chromosome)\n",
    "    return population\n",
    "\n",
    "# init_population(1,20)\n"
   ]
  },
  {
   "cell_type": "code",
   "execution_count": 59,
   "metadata": {},
   "outputs": [],
   "source": [
    "# Adjust the makespan calculation function to use the specific setup times for the instance and family\n",
    "def calculate_makespan(chromosome, processing_times, setup_times_instance, num_machines, job_family_mapping):\n",
    "    # Initialize machine times\n",
    "    machine_times = [0] * num_machines\n",
    "    last_family = [-1] * num_machines  # To track the last family processed by each machine\n",
    "    \n",
    "    for job in chromosome:\n",
    "        machine_index = machine_times.index(min(machine_times))\n",
    "        current_family = job_family_mapping[f'J{job+1}']['family']  # Get the family of the current job\n",
    "        # Check if setup time is needed\n",
    "        setup_time = setup_times_instance[current_family] if last_family[machine_index] != current_family else 0\n",
    "        # Update machine time with the processing time and setup time\n",
    "        machine_times[machine_index] += processing_times[job] + setup_time\n",
    "        # Update the last family processed on this machine\n",
    "        last_family[machine_index] = current_family\n",
    "\n",
    "    # The makespan is the maximum time among all machines\n",
    "    makespan = max(machine_times)\n",
    "    return makespan"
   ]
  },
  {
   "cell_type": "code",
   "execution_count": 60,
   "metadata": {},
   "outputs": [],
   "source": [
    "# Adjust the fitness function to use the specific setup times for the instance and family\n",
    "def fitness(chromosome, processing_times, setup_times_instance, num_machines, job_family_mapping):\n",
    "    total_processing_time = sum(processing_times)\n",
    "    makespan = calculate_makespan(chromosome, processing_times, setup_times_instance, num_machines, job_family_mapping)\n",
    "    utilization = total_processing_time / (num_machines * makespan)\n",
    "    return utilization\n"
   ]
  },
  {
   "cell_type": "code",
   "execution_count": 61,
   "metadata": {},
   "outputs": [],
   "source": [
    "def tournament_selection(population, fitness_func, tournament_size, processing_times, setup_times_instance, num_machines, job_family_mapping):\n",
    "    # Randomly select tournament_size individuals from the population\n",
    "    participants = random.sample(population, tournament_size)\n",
    "    \n",
    "    # The 'key' parameter is expecting a function that it can call with one argument,\n",
    "    # so we use a lambda that calls fitness_func with all the necessary arguments.\n",
    "    # The lambda function is needed because fitness_func requires more than one argument.\n",
    "    best_individual = max(participants, key=lambda ind: fitness_func(ind, processing_times, setup_times_instance, num_machines, job_family_mapping))\n",
    "    \n",
    "    return best_individual\n"
   ]
  },
  {
   "cell_type": "code",
   "execution_count": null,
   "metadata": {},
   "outputs": [],
   "source": []
  },
  {
   "cell_type": "code",
   "execution_count": 62,
   "metadata": {},
   "outputs": [],
   "source": [
    "\n",
    "# Define cycle crossover\n",
    "def cycle_crossover(parent1, parent2):\n",
    "    child = [-1] * len(parent1)  # Start with a child with no assigned jobs\n",
    "    cycle_start = parent1[0]  # Start cycle with the first job of parent1\n",
    "    index = 0\n",
    "    while child[index] == -1:\n",
    "        child[index] = parent1[index]  # Assign job from parent1 to the child\n",
    "        index = parent2.index(child[index])  # Find the position of this job in parent2\n",
    "    # Continue until we return to the cycle start position\n",
    "    while parent1[index] != cycle_start:\n",
    "        child[index] = parent1[index]  # Assign job from parent1 to the child\n",
    "        index = parent2.index(child[index])  # Find the position of this job in parent2\n",
    "    # Fill in remaining jobs from parent2\n",
    "    for i in range(len(child)):\n",
    "        if child[i] == -1:\n",
    "            child[i] = parent2[i]\n",
    "    return child"
   ]
  },
  {
   "cell_type": "code",
   "execution_count": 63,
   "metadata": {},
   "outputs": [],
   "source": [
    "\n",
    "# Define swap mutation\n",
    "def swap_mutation(chromosome):\n",
    "    # Randomly select two indices to swap\n",
    "    idx1, idx2 = random.sample(range(len(chromosome)), 2)\n",
    "    # Swap the jobs at these indices\n",
    "    chromosome[idx1], chromosome[idx2] = chromosome[idx2], chromosome[idx1]\n",
    "    return chromosome\n",
    "\n",
    "# Define survivor selection (fitness-based selection)\n",
    "def survivor_selection(population, fitness_scores):\n",
    "    # Sort the population based on the fitness scores in descending order\n",
    "    sorted_population = [x for _, x in sorted(zip(fitness_scores, population), key=lambda pair: pair[0], reverse=True)]\n",
    "    survivors = sorted_population[:len(population)]\n",
    "    return survivors"
   ]
  },
  {
   "cell_type": "code",
   "execution_count": 64,
   "metadata": {},
   "outputs": [],
   "source": [
    "\n",
    "# Adjust the run_generation function to use the updated tournament_selection\n",
    "def run_generation(population, processing_times, setup_times_instance, num_machines, job_family_mapping, fitness, tournament_size):\n",
    "    \n",
    "    # children = []\n",
    "    # while len(children) < len(population):\n",
    "    # Selection\n",
    "    parent1 = tournament_selection(\n",
    "        population, \n",
    "        fitness, \n",
    "        tournament_size,\n",
    "        processing_times, \n",
    "        setup_times_instance, \n",
    "        num_machines, \n",
    "        job_family_mapping\n",
    "    )\n",
    "    parent2 = tournament_selection(\n",
    "        population, \n",
    "        fitness, \n",
    "        tournament_size,\n",
    "        processing_times, \n",
    "        setup_times_instance, \n",
    "        num_machines, \n",
    "        job_family_mapping\n",
    "    )\n",
    "    # parent1, parent2 = random.sample(parents, 2)\n",
    "    # Crossover\n",
    "    child = cycle_crossover(parent1, parent2)\n",
    "    \n",
    "    # children.append(child)\n",
    "    \n",
    "    # Mutation\n",
    "    if random.random() < 0.5:  # Assuming a mutation probability of 10%\n",
    "        child = swap_mutation(child)\n",
    "    \n",
    "    # Calculate fitness for the new population\n",
    "    # fitness_scores = [fitness_func(individual, processing_times, setup_times_instance, num_machines, job_family_mapping) for individual in children]\n",
    "    \n",
    "    # Survivor Selection\n",
    "    new_population = survivor_selection(\n",
    "        child + population, \n",
    "        fitness_scores + [fitness(ind, processing_times, setup_times_instance, num_machines, job_family_mapping) for ind in population]\n",
    "    )\n",
    "    min_parent = max( population, key=lambda ind: fitness(ind, processing_times, setup_times_instance, num_machines, job_family_mapping) )\n",
    "    child_fitness = fitness(child, processing_times, setup_times_instance, num_machines, job_family_mapping)\n",
    "    if child_fitness<min_parent:\n",
    "        population.index()\n",
    "    \n",
    "    return new_population"
   ]
  },
  {
   "cell_type": "code",
   "execution_count": 65,
   "metadata": {},
   "outputs": [
    {
     "data": {
      "text/plain": [
       "{'in1': {1: 984, 2: 1063, 3: 577, 4: 372},\n",
       " 'in10': {1: 1027, 2: 1335, 3: 1462, 4: 597},\n",
       " 'in11': {1: 1176, 2: 499, 3: 641, 4: 1194},\n",
       " 'in12': {1: 489, 2: 591, 3: 1104, 4: 369},\n",
       " 'in13': {1: 1185, 2: 723, 3: 1267, 4: 629}}"
      ]
     },
     "execution_count": 65,
     "metadata": {},
     "output_type": "execute_result"
    }
   ],
   "source": [
    "# Assuming that the Excel file has the setup times for each family within each instance, \n",
    "# we will create a nested dictionary that stores this information.\n",
    "\n",
    "# We will group the data by 'instance' and 'family' and then extract the 'Setup Time' for each group.\n",
    "setup_times_by_instance = data.groupby(['instance', 'family'])['Setup Time'].first().unstack(fill_value=0).to_dict('index')\n",
    "\n",
    "# Now we have a dictionary where the keys are instance identifiers, and the values are dictionaries\n",
    "# with family identifiers as keys and setup times as values.\n",
    "\n",
    "# Let's check the structure of the extracted setup times for the first few instances.\n",
    "{instance: setup_times_by_instance[instance] for instance in list(setup_times_by_instance)[:5]}\n",
    "\n"
   ]
  },
  {
   "cell_type": "code",
   "execution_count": 66,
   "metadata": {},
   "outputs": [
    {
     "ename": "NameError",
     "evalue": "name 'children' is not defined",
     "output_type": "error",
     "traceback": [
      "\u001b[1;31m---------------------------------------------------------------------------\u001b[0m",
      "\u001b[1;31mNameError\u001b[0m                                 Traceback (most recent call last)",
      "\u001b[1;32mc:\\Users\\daphn\\GitHub\\SelfStudy_Local\\2023群雅專題\\2023_NTHU_SCHEDULING_GA\\newGA.ipynb Cell 12\u001b[0m line \u001b[0;36m2\n\u001b[0;32m     <a href='vscode-notebook-cell:/c%3A/Users/daphn/GitHub/SelfStudy_Local/2023%E7%BE%A4%E9%9B%85%E5%B0%88%E9%A1%8C/2023_NTHU_SCHEDULING_GA/newGA.ipynb#X23sZmlsZQ%3D%3D?line=22'>23</a>\u001b[0m \u001b[39m# Run the genetic algorithm for a specified number of generations\u001b[39;00m\n\u001b[0;32m     <a href='vscode-notebook-cell:/c%3A/Users/daphn/GitHub/SelfStudy_Local/2023%E7%BE%A4%E9%9B%85%E5%B0%88%E9%A1%8C/2023_NTHU_SCHEDULING_GA/newGA.ipynb#X23sZmlsZQ%3D%3D?line=23'>24</a>\u001b[0m \u001b[39mfor\u001b[39;00m generation \u001b[39min\u001b[39;00m \u001b[39mrange\u001b[39m(num_generations):\n\u001b[1;32m---> <a href='vscode-notebook-cell:/c%3A/Users/daphn/GitHub/SelfStudy_Local/2023%E7%BE%A4%E9%9B%85%E5%B0%88%E9%A1%8C/2023_NTHU_SCHEDULING_GA/newGA.ipynb#X23sZmlsZQ%3D%3D?line=24'>25</a>\u001b[0m     population \u001b[39m=\u001b[39m run_generation(\n\u001b[0;32m     <a href='vscode-notebook-cell:/c%3A/Users/daphn/GitHub/SelfStudy_Local/2023%E7%BE%A4%E9%9B%85%E5%B0%88%E9%A1%8C/2023_NTHU_SCHEDULING_GA/newGA.ipynb#X23sZmlsZQ%3D%3D?line=25'>26</a>\u001b[0m         population,\n\u001b[0;32m     <a href='vscode-notebook-cell:/c%3A/Users/daphn/GitHub/SelfStudy_Local/2023%E7%BE%A4%E9%9B%85%E5%B0%88%E9%A1%8C/2023_NTHU_SCHEDULING_GA/newGA.ipynb#X23sZmlsZQ%3D%3D?line=26'>27</a>\u001b[0m         instance_processing_times,\n\u001b[0;32m     <a href='vscode-notebook-cell:/c%3A/Users/daphn/GitHub/SelfStudy_Local/2023%E7%BE%A4%E9%9B%85%E5%B0%88%E9%A1%8C/2023_NTHU_SCHEDULING_GA/newGA.ipynb#X23sZmlsZQ%3D%3D?line=27'>28</a>\u001b[0m         setup_times_instance,\n\u001b[0;32m     <a href='vscode-notebook-cell:/c%3A/Users/daphn/GitHub/SelfStudy_Local/2023%E7%BE%A4%E9%9B%85%E5%B0%88%E9%A1%8C/2023_NTHU_SCHEDULING_GA/newGA.ipynb#X23sZmlsZQ%3D%3D?line=28'>29</a>\u001b[0m         num_machines,\n\u001b[0;32m     <a href='vscode-notebook-cell:/c%3A/Users/daphn/GitHub/SelfStudy_Local/2023%E7%BE%A4%E9%9B%85%E5%B0%88%E9%A1%8C/2023_NTHU_SCHEDULING_GA/newGA.ipynb#X23sZmlsZQ%3D%3D?line=29'>30</a>\u001b[0m         job_family_mapping,\n\u001b[0;32m     <a href='vscode-notebook-cell:/c%3A/Users/daphn/GitHub/SelfStudy_Local/2023%E7%BE%A4%E9%9B%85%E5%B0%88%E9%A1%8C/2023_NTHU_SCHEDULING_GA/newGA.ipynb#X23sZmlsZQ%3D%3D?line=30'>31</a>\u001b[0m         fitness,\n\u001b[0;32m     <a href='vscode-notebook-cell:/c%3A/Users/daphn/GitHub/SelfStudy_Local/2023%E7%BE%A4%E9%9B%85%E5%B0%88%E9%A1%8C/2023_NTHU_SCHEDULING_GA/newGA.ipynb#X23sZmlsZQ%3D%3D?line=31'>32</a>\u001b[0m         tournament_size\n\u001b[0;32m     <a href='vscode-notebook-cell:/c%3A/Users/daphn/GitHub/SelfStudy_Local/2023%E7%BE%A4%E9%9B%85%E5%B0%88%E9%A1%8C/2023_NTHU_SCHEDULING_GA/newGA.ipynb#X23sZmlsZQ%3D%3D?line=32'>33</a>\u001b[0m     )\n\u001b[0;32m     <a href='vscode-notebook-cell:/c%3A/Users/daphn/GitHub/SelfStudy_Local/2023%E7%BE%A4%E9%9B%85%E5%B0%88%E9%A1%8C/2023_NTHU_SCHEDULING_GA/newGA.ipynb#X23sZmlsZQ%3D%3D?line=34'>35</a>\u001b[0m     \u001b[39m# Optional: Output the generation number and best fitness in the population to track progress\u001b[39;00m\n\u001b[0;32m     <a href='vscode-notebook-cell:/c%3A/Users/daphn/GitHub/SelfStudy_Local/2023%E7%BE%A4%E9%9B%85%E5%B0%88%E9%A1%8C/2023_NTHU_SCHEDULING_GA/newGA.ipynb#X23sZmlsZQ%3D%3D?line=35'>36</a>\u001b[0m     best_fitness \u001b[39m=\u001b[39m \u001b[39mmax\u001b[39m([fitness(ind, instance_processing_times, setup_times_instance, num_machines, job_family_mapping) \u001b[39mfor\u001b[39;00m ind \u001b[39min\u001b[39;00m population])\n",
      "\u001b[1;32mc:\\Users\\daphn\\GitHub\\SelfStudy_Local\\2023群雅專題\\2023_NTHU_SCHEDULING_GA\\newGA.ipynb Cell 12\u001b[0m line \u001b[0;36m3\n\u001b[0;32m     <a href='vscode-notebook-cell:/c%3A/Users/daphn/GitHub/SelfStudy_Local/2023%E7%BE%A4%E9%9B%85%E5%B0%88%E9%A1%8C/2023_NTHU_SCHEDULING_GA/newGA.ipynb#X23sZmlsZQ%3D%3D?line=32'>33</a>\u001b[0m     child \u001b[39m=\u001b[39m swap_mutation(child)\n\u001b[0;32m     <a href='vscode-notebook-cell:/c%3A/Users/daphn/GitHub/SelfStudy_Local/2023%E7%BE%A4%E9%9B%85%E5%B0%88%E9%A1%8C/2023_NTHU_SCHEDULING_GA/newGA.ipynb#X23sZmlsZQ%3D%3D?line=34'>35</a>\u001b[0m \u001b[39m# Calculate fitness for the new population\u001b[39;00m\n\u001b[1;32m---> <a href='vscode-notebook-cell:/c%3A/Users/daphn/GitHub/SelfStudy_Local/2023%E7%BE%A4%E9%9B%85%E5%B0%88%E9%A1%8C/2023_NTHU_SCHEDULING_GA/newGA.ipynb#X23sZmlsZQ%3D%3D?line=35'>36</a>\u001b[0m fitness_scores \u001b[39m=\u001b[39m [fitness_func(individual, processing_times, setup_times_instance, num_machines, job_family_mapping) \u001b[39mfor\u001b[39;00m individual \u001b[39min\u001b[39;00m children]\n\u001b[0;32m     <a href='vscode-notebook-cell:/c%3A/Users/daphn/GitHub/SelfStudy_Local/2023%E7%BE%A4%E9%9B%85%E5%B0%88%E9%A1%8C/2023_NTHU_SCHEDULING_GA/newGA.ipynb#X23sZmlsZQ%3D%3D?line=37'>38</a>\u001b[0m \u001b[39m# Survivor Selection\u001b[39;00m\n\u001b[0;32m     <a href='vscode-notebook-cell:/c%3A/Users/daphn/GitHub/SelfStudy_Local/2023%E7%BE%A4%E9%9B%85%E5%B0%88%E9%A1%8C/2023_NTHU_SCHEDULING_GA/newGA.ipynb#X23sZmlsZQ%3D%3D?line=38'>39</a>\u001b[0m new_population \u001b[39m=\u001b[39m survivor_selection(\n\u001b[0;32m     <a href='vscode-notebook-cell:/c%3A/Users/daphn/GitHub/SelfStudy_Local/2023%E7%BE%A4%E9%9B%85%E5%B0%88%E9%A1%8C/2023_NTHU_SCHEDULING_GA/newGA.ipynb#X23sZmlsZQ%3D%3D?line=39'>40</a>\u001b[0m     child \u001b[39m+\u001b[39m population, \n\u001b[0;32m     <a href='vscode-notebook-cell:/c%3A/Users/daphn/GitHub/SelfStudy_Local/2023%E7%BE%A4%E9%9B%85%E5%B0%88%E9%A1%8C/2023_NTHU_SCHEDULING_GA/newGA.ipynb#X23sZmlsZQ%3D%3D?line=40'>41</a>\u001b[0m     fitness_scores \u001b[39m+\u001b[39m [fitness_func(ind, processing_times, setup_times_instance, num_machines, job_family_mapping) \u001b[39mfor\u001b[39;00m ind \u001b[39min\u001b[39;00m population]\n\u001b[0;32m     <a href='vscode-notebook-cell:/c%3A/Users/daphn/GitHub/SelfStudy_Local/2023%E7%BE%A4%E9%9B%85%E5%B0%88%E9%A1%8C/2023_NTHU_SCHEDULING_GA/newGA.ipynb#X23sZmlsZQ%3D%3D?line=41'>42</a>\u001b[0m )\n",
      "\u001b[1;31mNameError\u001b[0m: name 'children' is not defined"
     ]
    }
   ],
   "source": [
    "job_family_mapping = data.set_index('job')[['family', 'Processing Time']].to_dict('index')\n",
    "\n",
    "# Assume we have all required data and functions defined: fitness, run_generation, etc.\n",
    "\n",
    "# Set the number of generations\n",
    "num_generations = 100\n",
    "population_size = 100\n",
    "tournament_size = 5\n",
    "\n",
    "fitness_values = []\n",
    "\n",
    "# Iterate over each instance\n",
    "for instance in setup_times_by_instance.keys():\n",
    "    # Get the processing times for the current instance\n",
    "    instance_processing_times = grouped_data[instance]\n",
    "    \n",
    "    # Get the setup times for the current instance\n",
    "    setup_times_instance = setup_times_by_instance[instance]\n",
    "\n",
    "    # Initialize the population\n",
    "    population = init_population(population_size, num_jobs)\n",
    "\n",
    "    # Run the genetic algorithm for a specified number of generations\n",
    "    for generation in range(num_generations):\n",
    "        \n",
    "        population = run_generation(\n",
    "            population,\n",
    "            instance_processing_times,\n",
    "            setup_times_instance,\n",
    "            num_machines,\n",
    "            job_family_mapping,\n",
    "            fitness,\n",
    "            tournament_size\n",
    "        )\n",
    "\n",
    "        # Optional: Output the generation number and best fitness in the population to track progress\n",
    "        best_fitness = max([fitness(ind, instance_processing_times, setup_times_instance, num_machines, job_family_mapping) for ind in population])\n",
    "        # print(f\"Generation {generation+1}: Best Fitness = {best_fitness}\")\n",
    "    print(f\" Best Fitness = {best_fitness}\")\n",
    "    \n",
    "    # Append the fitness value to the list\n",
    "    fitness_values.append(best_fitness)\n",
    "\n",
    "# Calculate the average utilization across all instances\n",
    "average_utilization = sum(fitness_values) / len(fitness_values)\n",
    "print(f\" Avg Fitness = {average_utilization}\")\n",
    "\n",
    "\n",
    "\n",
    "# The final population now contains the evolved chromosomes after 1000 generations\n",
    "\n"
   ]
  },
  {
   "cell_type": "code",
   "execution_count": null,
   "metadata": {},
   "outputs": [
    {
     "name": "stdout",
     "output_type": "stream",
     "text": [
      " Avg Fitness = 0.7774136624276435\n"
     ]
    }
   ],
   "source": [
    "print(f\" Avg Fitness = {average_utilization}\")"
   ]
  },
  {
   "cell_type": "code",
   "execution_count": null,
   "metadata": {},
   "outputs": [],
   "source": []
  },
  {
   "cell_type": "code",
   "execution_count": null,
   "metadata": {},
   "outputs": [],
   "source": []
  },
  {
   "cell_type": "code",
   "execution_count": null,
   "metadata": {},
   "outputs": [],
   "source": []
  },
  {
   "cell_type": "code",
   "execution_count": null,
   "metadata": {},
   "outputs": [],
   "source": []
  }
 ],
 "metadata": {
  "kernelspec": {
   "display_name": "gpu",
   "language": "python",
   "name": "python3"
  },
  "language_info": {
   "codemirror_mode": {
    "name": "ipython",
    "version": 3
   },
   "file_extension": ".py",
   "mimetype": "text/x-python",
   "name": "python",
   "nbconvert_exporter": "python",
   "pygments_lexer": "ipython3",
   "version": "3.11.4"
  }
 },
 "nbformat": 4,
 "nbformat_minor": 2
}
